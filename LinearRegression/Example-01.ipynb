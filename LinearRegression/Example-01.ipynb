{
 "cells": [
  {
   "cell_type": "code",
   "execution_count": 7,
   "id": "08cc6f9c",
   "metadata": {},
   "outputs": [
    {
     "name": "stdout",
     "output_type": "stream",
     "text": [
      "model intercept: 0.09999999999999876\n",
      "model slope: 1.9000000000000004\n",
      "Predicted y for x=7: [13.4]\n"
     ]
    },
    {
     "name": "stderr",
     "output_type": "stream",
     "text": [
      "c:\\Users\\yehani\\AppData\\Local\\Programs\\Python\\Python313\\Lib\\site-packages\\sklearn\\utils\\validation.py:2749: UserWarning: X does not have valid feature names, but LinearRegression was fitted with feature names\n",
      "  warnings.warn(\n"
     ]
    }
   ],
   "source": [
    "import pandas as pd\n",
    "from sklearn.linear_model import LinearRegression\n",
    "\n",
    "data = {\n",
    "    'x': [1, 2, 3, 4, 5],\n",
    "    'y': [2, 4, 6, 7, 10]\n",
    "}\n",
    "\n",
    "df = pd.DataFrame(data)\n",
    "# print(df)\n",
    "x = df[['x']]\n",
    "# print(x)\n",
    "y = df['y']\n",
    "# print(y)\n",
    "\n",
    "model = LinearRegression()\n",
    "model.fit(x, y) # train the model\n",
    "\n",
    "print(\"model intercept:\", model.intercept_)\n",
    "print(\"model slope:\", model.coef_[0])\n",
    "\n",
    "# Predict y when x = 7\n",
    "print(\"Predicted y for x=7:\", model.predict([[7]])) "
   ]
  }
 ],
 "metadata": {
  "kernelspec": {
   "display_name": "Python 3",
   "language": "python",
   "name": "python3"
  },
  "language_info": {
   "codemirror_mode": {
    "name": "ipython",
    "version": 3
   },
   "file_extension": ".py",
   "mimetype": "text/x-python",
   "name": "python",
   "nbconvert_exporter": "python",
   "pygments_lexer": "ipython3",
   "version": "3.13.0"
  }
 },
 "nbformat": 4,
 "nbformat_minor": 5
}
